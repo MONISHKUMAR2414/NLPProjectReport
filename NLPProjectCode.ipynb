{
 "cells": [
  {
   "cell_type": "code",
   "execution_count": 1,
   "id": "403274e3",
   "metadata": {},
   "outputs": [
    {
     "name": "stdout",
     "output_type": "stream",
     "text": [
      "WARNING:tensorflow:From c:\\Users\\mohan\\.conda\\envs\\game\\lib\\site-packages\\tf_keras\\src\\losses.py:2976: The name tf.losses.sparse_softmax_cross_entropy is deprecated. Please use tf.compat.v1.losses.sparse_softmax_cross_entropy instead.\n",
      "\n"
     ]
    }
   ],
   "source": [
    "import pandas as pd \n",
    "import numpy as np \n",
    "import nltk\n",
    "from sklearn.metrics.pairwise import cosine_similarity , linear_kernel\n",
    "from nltk.tokenize import  word_tokenize\n",
    "from nltk.stem import PorterStemmer , WordNetLemmatizer\n",
    "from nltk.corpus import stopwords \n",
    "from sklearn.feature_extraction.text import TfidfVectorizer , CountVectorizer\n",
    "from sentence_transformers import SentenceTransformer\n",
    "import re\n",
    "import pickle as pkl\n"
   ]
  },
  {
   "cell_type": "code",
   "execution_count": 2,
   "id": "a866dca9",
   "metadata": {},
   "outputs": [],
   "source": [
    "books = pd.read_csv(\"BooksDataset.csv\")"
   ]
  },
  {
   "cell_type": "code",
   "execution_count": 3,
   "id": "7c911383",
   "metadata": {},
   "outputs": [],
   "source": [
    "books = books[~books[\"Description\"].isna()]"
   ]
  },
  {
   "cell_type": "code",
   "execution_count": 4,
   "id": "107df716",
   "metadata": {},
   "outputs": [],
   "source": [
    "stop_words = set(stopwords.words(\"english\"))\n",
    "\n",
    "def clean_data(text):\n",
    "\n",
    "    if( isinstance(text,str)):\n",
    "\n",
    "        text = text.lower()\n",
    "\n",
    "        test = re.sub(\"\\S*@\\S*\",\"\",text)         # Removing gmail ids\n",
    "\n",
    "        text= re.sub(\"http\\S*\",\"\",text)          # Removing links\n",
    "\n",
    "        text = re.sub(\"\\d\",\"\",text)              # Removing digits\n",
    "\n",
    "        text = re.sub(\"\\s[a-zA-Z]\\s\",\" \",text)  # Removing single alphabets\n",
    "\n",
    "        text = re.sub(\"\\s+[^a-zA-Z]+\\s+\",\"\",text)    #keeping english letters only\n",
    "\n",
    "        text = re.sub(\"\\[[^+]*\\]\",\"\",text)     # Removing squate brackets and the content inside it\n",
    "\n",
    "        text = re.sub(\"[#-]+\",\"\",text)         # Removing hashtags and -  \n",
    "\n",
    "        text = re.sub(\"\\n\",\"\",text)            # Removing newlines \n",
    "\n",
    "        text = re.sub(\"\\s\\s+\",\" \",text)         #removing More then one spaces\n",
    "\n",
    "        text = word_tokenize(text)\n",
    "\n",
    "        text = [i for i in text if i not in stop_words and len(i) > 2]  #Removing stopwords and two letter words\n",
    "\n",
    "        return text\n",
    "    \n",
    "    else:\n",
    "        print(type(text))\n",
    "        return \" \"\n",
    "\n",
    "\n",
    "\n",
    "\n",
    "    "
   ]
  },
  {
   "cell_type": "code",
   "execution_count": 5,
   "id": "9d33c472",
   "metadata": {},
   "outputs": [],
   "source": [
    "books[\"New_Description\"] = books[\"Description\"].apply(clean_data)"
   ]
  },
  {
   "cell_type": "code",
   "execution_count": 6,
   "id": "1fe088e8",
   "metadata": {},
   "outputs": [
    {
     "data": {
      "text/plain": [
       "New_Description\n",
       "18      1590\n",
       "20      1577\n",
       "16      1546\n",
       "21      1534\n",
       "17      1502\n",
       "        ... \n",
       "1073       1\n",
       "650        1\n",
       "470        1\n",
       "392        1\n",
       "447        1\n",
       "Name: count, Length: 441, dtype: int64"
      ]
     },
     "execution_count": 6,
     "metadata": {},
     "output_type": "execute_result"
    }
   ],
   "source": [
    "books[\"New_Description\"].apply(len).value_counts()"
   ]
  },
  {
   "cell_type": "code",
   "execution_count": 7,
   "id": "e8dee4ef",
   "metadata": {},
   "outputs": [],
   "source": [
    "books = books[books[\"New_Description\"] != \"\"]"
   ]
  },
  {
   "cell_type": "code",
   "execution_count": 8,
   "id": "84fe3401",
   "metadata": {},
   "outputs": [],
   "source": [
    "lemmatizer = WordNetLemmatizer()\n",
    "def data_stemmer(text):\n",
    "\n",
    "    \n",
    "    text = [lemmatizer.lemmatize(i) for i in text]\n",
    "\n",
    "    return \" \".join(text)"
   ]
  },
  {
   "cell_type": "code",
   "execution_count": 9,
   "id": "917ba580",
   "metadata": {},
   "outputs": [],
   "source": [
    "books[\"New_Description\"] = books[\"New_Description\"].apply(data_stemmer)"
   ]
  },
  {
   "cell_type": "code",
   "execution_count": 10,
   "id": "481b3fe0",
   "metadata": {},
   "outputs": [],
   "source": [
    "books[\"New_Description_len\"] = books[\"New_Description\"].apply(len)\n",
    "\n",
    "books[\"Description_len\"] = books[\"Description\"].apply(len)"
   ]
  },
  {
   "cell_type": "code",
   "execution_count": 11,
   "id": "cafdf38e",
   "metadata": {},
   "outputs": [
    {
     "data": {
      "text/html": [
       "<div>\n",
       "<style scoped>\n",
       "    .dataframe tbody tr th:only-of-type {\n",
       "        vertical-align: middle;\n",
       "    }\n",
       "\n",
       "    .dataframe tbody tr th {\n",
       "        vertical-align: top;\n",
       "    }\n",
       "\n",
       "    .dataframe thead th {\n",
       "        text-align: right;\n",
       "    }\n",
       "</style>\n",
       "<table border=\"1\" class=\"dataframe\">\n",
       "  <thead>\n",
       "    <tr style=\"text-align: right;\">\n",
       "      <th></th>\n",
       "      <th>New_Description_len</th>\n",
       "      <th>Description_len</th>\n",
       "    </tr>\n",
       "  </thead>\n",
       "  <tbody>\n",
       "    <tr>\n",
       "      <th>7</th>\n",
       "      <td>122</td>\n",
       "      <td>176</td>\n",
       "    </tr>\n",
       "    <tr>\n",
       "      <th>8</th>\n",
       "      <td>142</td>\n",
       "      <td>197</td>\n",
       "    </tr>\n",
       "    <tr>\n",
       "      <th>10</th>\n",
       "      <td>311</td>\n",
       "      <td>437</td>\n",
       "    </tr>\n",
       "    <tr>\n",
       "      <th>11</th>\n",
       "      <td>1990</td>\n",
       "      <td>2724</td>\n",
       "    </tr>\n",
       "    <tr>\n",
       "      <th>13</th>\n",
       "      <td>140</td>\n",
       "      <td>244</td>\n",
       "    </tr>\n",
       "  </tbody>\n",
       "</table>\n",
       "</div>"
      ],
      "text/plain": [
       "    New_Description_len  Description_len\n",
       "7                   122              176\n",
       "8                   142              197\n",
       "10                  311              437\n",
       "11                 1990             2724\n",
       "13                  140              244"
      ]
     },
     "execution_count": 11,
     "metadata": {},
     "output_type": "execute_result"
    }
   ],
   "source": [
    "books.loc[:,[\"New_Description_len\",\"Description_len\"]].head()"
   ]
  },
  {
   "cell_type": "code",
   "execution_count": 12,
   "id": "a745a09f",
   "metadata": {},
   "outputs": [],
   "source": [
    "books = books[ books[\"New_Description_len\"] > books[\"New_Description_len\"].mean() + 150 ]"
   ]
  },
  {
   "cell_type": "code",
   "execution_count": 13,
   "id": "17c2a2d5",
   "metadata": {},
   "outputs": [
    {
     "data": {
      "text/plain": [
       "11        Germs : Biological Weapons and America's Secre...\n",
       "14                                All over but the Shoutin'\n",
       "19                   Hill Rat: Blowing the Lid Off Congress\n",
       "27                                              Shadow Song\n",
       "31        Codebreakers' Victory: How the Allied Cryptoga...\n",
       "                                ...                        \n",
       "103066                                Africa, Third Edition\n",
       "103067    A Coup Attempt in Washington: A European Mirro...\n",
       "103068                                      The Iraq Papers\n",
       "103069                               Like A Sister: A Novel\n",
       "103072                 EVA: The Real Key to Creating Wealth\n",
       "Name: Title, Length: 20812, dtype: object"
      ]
     },
     "execution_count": 13,
     "metadata": {},
     "output_type": "execute_result"
    }
   ],
   "source": [
    "books[\"Title\"]"
   ]
  },
  {
   "cell_type": "code",
   "execution_count": 14,
   "id": "55d27de5",
   "metadata": {},
   "outputs": [],
   "source": [
    "books.reset_index(drop=True,inplace=True)"
   ]
  },
  {
   "cell_type": "markdown",
   "id": "c1821ac2",
   "metadata": {},
   "source": [
    "## JUST LIKE THIS REPEAT THE PROCESS FOR MOVIES"
   ]
  },
  {
   "cell_type": "code",
   "execution_count": 15,
   "id": "fb646ca0",
   "metadata": {},
   "outputs": [
    {
     "data": {
      "text/plain": [
       "Index(['movie_id', 'title', 'cast', 'crew'], dtype='object')"
      ]
     },
     "execution_count": 15,
     "metadata": {},
     "output_type": "execute_result"
    }
   ],
   "source": [
    "data1 = pd.read_csv(r\"tmdb_5000_credits.csv\")\n",
    "data2 = pd.read_csv(r\"tmdb_5000_movies.csv\")\n",
    "data1.columns"
   ]
  },
  {
   "cell_type": "code",
   "execution_count": 16,
   "id": "53acf5ce",
   "metadata": {},
   "outputs": [],
   "source": [
    "data1.columns = ['id', 'title', 'cast', 'crew']\n",
    "movies = data2.merge(data1, on = \"id\")"
   ]
  },
  {
   "cell_type": "code",
   "execution_count": 17,
   "id": "0f869b64",
   "metadata": {},
   "outputs": [
    {
     "name": "stdout",
     "output_type": "stream",
     "text": [
      "<class 'float'>\n",
      "<class 'float'>\n",
      "<class 'float'>\n"
     ]
    }
   ],
   "source": [
    "movies [\"new_overview\"]= movies[\"overview\"].apply(clean_data)\n",
    "movies = movies[movies[\"new_overview\"] != \" \"]"
   ]
  },
  {
   "cell_type": "code",
   "execution_count": 18,
   "id": "a95df011",
   "metadata": {},
   "outputs": [],
   "source": [
    "movies[\"new_overview\"] = movies[\"new_overview\"].apply(data_stemmer)"
   ]
  },
  {
   "cell_type": "code",
   "execution_count": 19,
   "id": "0d8a619e",
   "metadata": {},
   "outputs": [],
   "source": [
    "movies[\"old_len\"] = movies[\"overview\"].apply(len)\n",
    "\n",
    "movies[\"new_len\"] = movies[\"new_overview\"].apply(len)"
   ]
  },
  {
   "cell_type": "code",
   "execution_count": 20,
   "id": "b23181fb",
   "metadata": {},
   "outputs": [
    {
     "data": {
      "text/html": [
       "<div>\n",
       "<style scoped>\n",
       "    .dataframe tbody tr th:only-of-type {\n",
       "        vertical-align: middle;\n",
       "    }\n",
       "\n",
       "    .dataframe tbody tr th {\n",
       "        vertical-align: top;\n",
       "    }\n",
       "\n",
       "    .dataframe thead th {\n",
       "        text-align: right;\n",
       "    }\n",
       "</style>\n",
       "<table border=\"1\" class=\"dataframe\">\n",
       "  <thead>\n",
       "    <tr style=\"text-align: right;\">\n",
       "      <th></th>\n",
       "      <th>old_len</th>\n",
       "      <th>new_len</th>\n",
       "    </tr>\n",
       "  </thead>\n",
       "  <tbody>\n",
       "    <tr>\n",
       "      <th>0</th>\n",
       "      <td>175</td>\n",
       "      <td>123</td>\n",
       "    </tr>\n",
       "    <tr>\n",
       "      <th>1</th>\n",
       "      <td>176</td>\n",
       "      <td>111</td>\n",
       "    </tr>\n",
       "    <tr>\n",
       "      <th>2</th>\n",
       "      <td>240</td>\n",
       "      <td>181</td>\n",
       "    </tr>\n",
       "    <tr>\n",
       "      <th>3</th>\n",
       "      <td>428</td>\n",
       "      <td>338</td>\n",
       "    </tr>\n",
       "    <tr>\n",
       "      <th>4</th>\n",
       "      <td>342</td>\n",
       "      <td>242</td>\n",
       "    </tr>\n",
       "  </tbody>\n",
       "</table>\n",
       "</div>"
      ],
      "text/plain": [
       "   old_len  new_len\n",
       "0      175      123\n",
       "1      176      111\n",
       "2      240      181\n",
       "3      428      338\n",
       "4      342      242"
      ]
     },
     "execution_count": 20,
     "metadata": {},
     "output_type": "execute_result"
    }
   ],
   "source": [
    "movies.loc[:,[\"old_len\",\"new_len\"]].head()"
   ]
  },
  {
   "cell_type": "markdown",
   "id": "58a7beaa",
   "metadata": {},
   "source": [
    "### Now combine books and movies data to get the whole dataset"
   ]
  },
  {
   "cell_type": "code",
   "execution_count": 21,
   "id": "4e31b24d",
   "metadata": {},
   "outputs": [
    {
     "data": {
      "text/plain": [
       "Index(['Title', 'Authors', 'Description', 'Category', 'Publisher',\n",
       "       'Publish Date', 'Price', 'New_Description', 'New_Description_len',\n",
       "       'Description_len'],\n",
       "      dtype='object')"
      ]
     },
     "execution_count": 21,
     "metadata": {},
     "output_type": "execute_result"
    }
   ],
   "source": [
    "books.columns"
   ]
  },
  {
   "cell_type": "code",
   "execution_count": 22,
   "id": "d2b80c49",
   "metadata": {},
   "outputs": [
    {
     "data": {
      "text/plain": [
       "Index(['budget', 'genres', 'homepage', 'id', 'keywords', 'original_language',\n",
       "       'original_title', 'overview', 'popularity', 'production_companies',\n",
       "       'production_countries', 'release_date', 'revenue', 'runtime',\n",
       "       'spoken_languages', 'status', 'tagline', 'title_x', 'vote_average',\n",
       "       'vote_count', 'title_y', 'cast', 'crew', 'new_overview', 'old_len',\n",
       "       'new_len'],\n",
       "      dtype='object')"
      ]
     },
     "execution_count": 22,
     "metadata": {},
     "output_type": "execute_result"
    }
   ],
   "source": [
    "movies.columns"
   ]
  },
  {
   "cell_type": "code",
   "execution_count": 23,
   "id": "4e12e9aa",
   "metadata": {},
   "outputs": [],
   "source": [
    "books.rename(columns= {\"New_Description\" : \"Story\" , \"Description\" : \"origionalStory\"},inplace=True)"
   ]
  },
  {
   "cell_type": "code",
   "execution_count": 24,
   "id": "7aae1694",
   "metadata": {},
   "outputs": [],
   "source": [
    "movies.rename(columns= {\"original_title\" : \"Title\" , \"new_overview\" : \"Story\", \"overview\" : \"origionalStory\"},inplace=True)"
   ]
  },
  {
   "cell_type": "code",
   "execution_count": 25,
   "id": "37a37b75",
   "metadata": {},
   "outputs": [],
   "source": [
    "books = books[[\"Story\",'origionalStory',\"Title\"]]\n",
    "books[\"isBook\"] = True"
   ]
  },
  {
   "cell_type": "code",
   "execution_count": 26,
   "id": "5d80c5de",
   "metadata": {},
   "outputs": [],
   "source": [
    "movies = movies[[\"Story\",\"origionalStory\",\"Title\"]]\n",
    "movies[\"isBook\"] = False\n",
    "\n",
    "#  False of isBook refers movies"
   ]
  },
  {
   "cell_type": "code",
   "execution_count": 27,
   "id": "f0a986bb",
   "metadata": {},
   "outputs": [],
   "source": [
    "data = pd.concat([books,movies])"
   ]
  },
  {
   "cell_type": "code",
   "execution_count": 28,
   "id": "e786df3c",
   "metadata": {},
   "outputs": [
    {
     "data": {
      "text/html": [
       "<div>\n",
       "<style scoped>\n",
       "    .dataframe tbody tr th:only-of-type {\n",
       "        vertical-align: middle;\n",
       "    }\n",
       "\n",
       "    .dataframe tbody tr th {\n",
       "        vertical-align: top;\n",
       "    }\n",
       "\n",
       "    .dataframe thead th {\n",
       "        text-align: right;\n",
       "    }\n",
       "</style>\n",
       "<table border=\"1\" class=\"dataframe\">\n",
       "  <thead>\n",
       "    <tr style=\"text-align: right;\">\n",
       "      <th></th>\n",
       "      <th>Story</th>\n",
       "      <th>origionalStory</th>\n",
       "      <th>Title</th>\n",
       "      <th>isBook</th>\n",
       "    </tr>\n",
       "  </thead>\n",
       "  <tbody>\n",
       "    <tr>\n",
       "      <th>0</th>\n",
       "      <td>deadly germ sprayed shopping mall bomblet spew...</td>\n",
       "      <td>Deadly germs sprayed in shopping malls, bomb-l...</td>\n",
       "      <td>Germs : Biological Weapons and America's Secre...</td>\n",
       "      <td>True</td>\n",
       "    </tr>\n",
       "    <tr>\n",
       "      <th>1</th>\n",
       "      <td>new york time notable book yearthis haunting h...</td>\n",
       "      <td>A New York Times Notable Book of the YearThis ...</td>\n",
       "      <td>All over but the Shoutin'</td>\n",
       "      <td>True</td>\n",
       "    </tr>\n",
       "    <tr>\n",
       "      <th>2</th>\n",
       "      <td>top aide powerful texas congressman ronald col...</td>\n",
       "      <td>As a top aide to powerful Texas Congressman Ro...</td>\n",
       "      <td>Hill Rat: Blowing the Lid Off Congress</td>\n",
       "      <td>True</td>\n",
       "    </tr>\n",
       "    <tr>\n",
       "      <th>3</th>\n",
       "      <td>wonderful summer great memory kind love everyb...</td>\n",
       "      <td>It was a wonderful summer, a great memory, the...</td>\n",
       "      <td>Shadow Song</td>\n",
       "      <td>True</td>\n",
       "    </tr>\n",
       "    <tr>\n",
       "      <th>4</th>\n",
       "      <td>first time ever veteran world war cryptographe...</td>\n",
       "      <td>For the first time ever, veteran World War II ...</td>\n",
       "      <td>Codebreakers' Victory: How the Allied Cryptoga...</td>\n",
       "      <td>True</td>\n",
       "    </tr>\n",
       "    <tr>\n",
       "      <th>...</th>\n",
       "      <td>...</td>\n",
       "      <td>...</td>\n",
       "      <td>...</td>\n",
       "      <td>...</td>\n",
       "    </tr>\n",
       "    <tr>\n",
       "      <th>4798</th>\n",
       "      <td>mariachi want play guitar carry family traditi...</td>\n",
       "      <td>El Mariachi just wants to play his guitar and ...</td>\n",
       "      <td>El Mariachi</td>\n",
       "      <td>False</td>\n",
       "    </tr>\n",
       "    <tr>\n",
       "      <th>4799</th>\n",
       "      <td>newlywed couple honeymoon upended arrival resp...</td>\n",
       "      <td>A newlywed couple's honeymoon is upended by th...</td>\n",
       "      <td>Newlyweds</td>\n",
       "      <td>False</td>\n",
       "    </tr>\n",
       "    <tr>\n",
       "      <th>4800</th>\n",
       "      <td>signed sealed delivered introduces dedicated q...</td>\n",
       "      <td>\"Signed, Sealed, Delivered\" introduces a dedic...</td>\n",
       "      <td>Signed, Sealed, Delivered</td>\n",
       "      <td>False</td>\n",
       "    </tr>\n",
       "    <tr>\n",
       "      <th>4801</th>\n",
       "      <td>ambitious new york attorney sam sent shanghai ...</td>\n",
       "      <td>When ambitious New York attorney Sam is sent t...</td>\n",
       "      <td>Shanghai Calling</td>\n",
       "      <td>False</td>\n",
       "    </tr>\n",
       "    <tr>\n",
       "      <th>4802</th>\n",
       "      <td>ever since second grade first saw e.t extrater...</td>\n",
       "      <td>Ever since the second grade when he first saw ...</td>\n",
       "      <td>My Date with Drew</td>\n",
       "      <td>False</td>\n",
       "    </tr>\n",
       "  </tbody>\n",
       "</table>\n",
       "<p>25612 rows × 4 columns</p>\n",
       "</div>"
      ],
      "text/plain": [
       "                                                  Story  \\\n",
       "0     deadly germ sprayed shopping mall bomblet spew...   \n",
       "1     new york time notable book yearthis haunting h...   \n",
       "2     top aide powerful texas congressman ronald col...   \n",
       "3     wonderful summer great memory kind love everyb...   \n",
       "4     first time ever veteran world war cryptographe...   \n",
       "...                                                 ...   \n",
       "4798  mariachi want play guitar carry family traditi...   \n",
       "4799  newlywed couple honeymoon upended arrival resp...   \n",
       "4800  signed sealed delivered introduces dedicated q...   \n",
       "4801  ambitious new york attorney sam sent shanghai ...   \n",
       "4802  ever since second grade first saw e.t extrater...   \n",
       "\n",
       "                                         origionalStory  \\\n",
       "0     Deadly germs sprayed in shopping malls, bomb-l...   \n",
       "1     A New York Times Notable Book of the YearThis ...   \n",
       "2     As a top aide to powerful Texas Congressman Ro...   \n",
       "3     It was a wonderful summer, a great memory, the...   \n",
       "4     For the first time ever, veteran World War II ...   \n",
       "...                                                 ...   \n",
       "4798  El Mariachi just wants to play his guitar and ...   \n",
       "4799  A newlywed couple's honeymoon is upended by th...   \n",
       "4800  \"Signed, Sealed, Delivered\" introduces a dedic...   \n",
       "4801  When ambitious New York attorney Sam is sent t...   \n",
       "4802  Ever since the second grade when he first saw ...   \n",
       "\n",
       "                                                  Title  isBook  \n",
       "0     Germs : Biological Weapons and America's Secre...    True  \n",
       "1                             All over but the Shoutin'    True  \n",
       "2                Hill Rat: Blowing the Lid Off Congress    True  \n",
       "3                                           Shadow Song    True  \n",
       "4     Codebreakers' Victory: How the Allied Cryptoga...    True  \n",
       "...                                                 ...     ...  \n",
       "4798                                        El Mariachi   False  \n",
       "4799                                          Newlyweds   False  \n",
       "4800                          Signed, Sealed, Delivered   False  \n",
       "4801                                   Shanghai Calling   False  \n",
       "4802                                  My Date with Drew   False  \n",
       "\n",
       "[25612 rows x 4 columns]"
      ]
     },
     "execution_count": 28,
     "metadata": {},
     "output_type": "execute_result"
    }
   ],
   "source": [
    "data"
   ]
  },
  {
   "cell_type": "code",
   "execution_count": 29,
   "id": "c4f07439",
   "metadata": {},
   "outputs": [],
   "source": [
    "data = data[~data[\"Title\"].duplicated()]"
   ]
  },
  {
   "cell_type": "code",
   "execution_count": 30,
   "id": "50e70195",
   "metadata": {},
   "outputs": [],
   "source": [
    "data.reset_index(inplace=True,drop=True)"
   ]
  },
  {
   "cell_type": "code",
   "execution_count": 31,
   "id": "89be484f",
   "metadata": {},
   "outputs": [
    {
     "data": {
      "text/plain": [
       "0        Germs : Biological Weapons and America's Secre...\n",
       "1                                All over but the Shoutin'\n",
       "2                   Hill Rat: Blowing the Lid Off Congress\n",
       "3                                              Shadow Song\n",
       "4        Codebreakers' Victory: How the Allied Cryptoga...\n",
       "                               ...                        \n",
       "24575                                          El Mariachi\n",
       "24576                                            Newlyweds\n",
       "24577                            Signed, Sealed, Delivered\n",
       "24578                                     Shanghai Calling\n",
       "24579                                    My Date with Drew\n",
       "Name: Title, Length: 24580, dtype: object"
      ]
     },
     "execution_count": 31,
     "metadata": {},
     "output_type": "execute_result"
    }
   ],
   "source": [
    "data[\"Title\"]"
   ]
  },
  {
   "cell_type": "code",
   "execution_count": 32,
   "id": "472fc322",
   "metadata": {},
   "outputs": [
    {
     "data": {
      "text/plain": [
       "<Compressed Sparse Row sparse matrix of dtype 'float64'\n",
       "\twith 2194827 stored elements and shape (24580, 129370)>"
      ]
     },
     "execution_count": 32,
     "metadata": {},
     "output_type": "execute_result"
    }
   ],
   "source": [
    "TFIDS = TfidfVectorizer(stop_words='english')\n",
    "\n",
    "tfids = TFIDS.fit_transform(data[\"Story\"])\n",
    "tfids"
   ]
  },
  {
   "cell_type": "code",
   "execution_count": 33,
   "id": "c2c25c76",
   "metadata": {},
   "outputs": [],
   "source": [
    "cosine_sim = linear_kernel(tfids,tfids)"
   ]
  },
  {
   "cell_type": "code",
   "execution_count": 34,
   "id": "4068034f",
   "metadata": {},
   "outputs": [
    {
     "data": {
      "text/plain": [
       "24580"
      ]
     },
     "execution_count": 34,
     "metadata": {},
     "output_type": "execute_result"
    }
   ],
   "source": [
    "len(data)"
   ]
  },
  {
   "cell_type": "code",
   "execution_count": 35,
   "id": "7d5b4bac",
   "metadata": {},
   "outputs": [
    {
     "data": {
      "text/plain": [
       "24580"
      ]
     },
     "execution_count": 35,
     "metadata": {},
     "output_type": "execute_result"
    }
   ],
   "source": [
    "len(cosine_sim)"
   ]
  },
  {
   "cell_type": "code",
   "execution_count": 36,
   "id": "f2d09767",
   "metadata": {},
   "outputs": [
    {
     "data": {
      "text/plain": [
       "24580"
      ]
     },
     "execution_count": 36,
     "metadata": {},
     "output_type": "execute_result"
    }
   ],
   "source": [
    "len(cosine_sim[0])"
   ]
  },
  {
   "cell_type": "code",
   "execution_count": 37,
   "id": "6a204ff6",
   "metadata": {},
   "outputs": [
    {
     "data": {
      "text/plain": [
       "2486"
      ]
     },
     "execution_count": 37,
     "metadata": {},
     "output_type": "execute_result"
    }
   ],
   "source": [
    "cosine_sim[0][1:].argmax()"
   ]
  },
  {
   "cell_type": "code",
   "execution_count": 38,
   "id": "c099b8bd",
   "metadata": {},
   "outputs": [],
   "source": [
    "reverse_index = pd.DataFrame( data.index )"
   ]
  },
  {
   "cell_type": "code",
   "execution_count": 39,
   "id": "d43cb98f",
   "metadata": {},
   "outputs": [],
   "source": [
    "reverse_index.index = data[\"Title\"]"
   ]
  },
  {
   "cell_type": "code",
   "execution_count": 40,
   "id": "2f12ebe1",
   "metadata": {},
   "outputs": [
    {
     "data": {
      "text/html": [
       "<div>\n",
       "<style scoped>\n",
       "    .dataframe tbody tr th:only-of-type {\n",
       "        vertical-align: middle;\n",
       "    }\n",
       "\n",
       "    .dataframe tbody tr th {\n",
       "        vertical-align: top;\n",
       "    }\n",
       "\n",
       "    .dataframe thead th {\n",
       "        text-align: right;\n",
       "    }\n",
       "</style>\n",
       "<table border=\"1\" class=\"dataframe\">\n",
       "  <thead>\n",
       "    <tr style=\"text-align: right;\">\n",
       "      <th></th>\n",
       "      <th>0</th>\n",
       "    </tr>\n",
       "    <tr>\n",
       "      <th>Title</th>\n",
       "      <th></th>\n",
       "    </tr>\n",
       "  </thead>\n",
       "  <tbody>\n",
       "    <tr>\n",
       "      <th>Germs : Biological Weapons and America's Secret War</th>\n",
       "      <td>0</td>\n",
       "    </tr>\n",
       "    <tr>\n",
       "      <th>All over but the Shoutin'</th>\n",
       "      <td>1</td>\n",
       "    </tr>\n",
       "    <tr>\n",
       "      <th>Hill Rat: Blowing the Lid Off Congress</th>\n",
       "      <td>2</td>\n",
       "    </tr>\n",
       "    <tr>\n",
       "      <th>Shadow Song</th>\n",
       "      <td>3</td>\n",
       "    </tr>\n",
       "    <tr>\n",
       "      <th>Codebreakers' Victory: How the Allied Cryptogaphers Won World War II</th>\n",
       "      <td>4</td>\n",
       "    </tr>\n",
       "  </tbody>\n",
       "</table>\n",
       "</div>"
      ],
      "text/plain": [
       "                                                    0\n",
       "Title                                                \n",
       "Germs : Biological Weapons and America's Secret...  0\n",
       "All over but the Shoutin'                           1\n",
       "Hill Rat: Blowing the Lid Off Congress              2\n",
       "Shadow Song                                         3\n",
       "Codebreakers' Victory: How the Allied Cryptogap...  4"
      ]
     },
     "execution_count": 40,
     "metadata": {},
     "output_type": "execute_result"
    }
   ],
   "source": [
    "reverse_index.head()"
   ]
  },
  {
   "cell_type": "code",
   "execution_count": 41,
   "id": "3f450c02",
   "metadata": {},
   "outputs": [
    {
     "data": {
      "text/html": [
       "<div>\n",
       "<style scoped>\n",
       "    .dataframe tbody tr th:only-of-type {\n",
       "        vertical-align: middle;\n",
       "    }\n",
       "\n",
       "    .dataframe tbody tr th {\n",
       "        vertical-align: top;\n",
       "    }\n",
       "\n",
       "    .dataframe thead th {\n",
       "        text-align: right;\n",
       "    }\n",
       "</style>\n",
       "<table border=\"1\" class=\"dataframe\">\n",
       "  <thead>\n",
       "    <tr style=\"text-align: right;\">\n",
       "      <th></th>\n",
       "      <th>Story</th>\n",
       "      <th>origionalStory</th>\n",
       "      <th>Title</th>\n",
       "      <th>isBook</th>\n",
       "    </tr>\n",
       "  </thead>\n",
       "  <tbody>\n",
       "    <tr>\n",
       "      <th>0</th>\n",
       "      <td>deadly germ sprayed shopping mall bomblet spew...</td>\n",
       "      <td>Deadly germs sprayed in shopping malls, bomb-l...</td>\n",
       "      <td>Germs : Biological Weapons and America's Secre...</td>\n",
       "      <td>True</td>\n",
       "    </tr>\n",
       "    <tr>\n",
       "      <th>1</th>\n",
       "      <td>new york time notable book yearthis haunting h...</td>\n",
       "      <td>A New York Times Notable Book of the YearThis ...</td>\n",
       "      <td>All over but the Shoutin'</td>\n",
       "      <td>True</td>\n",
       "    </tr>\n",
       "    <tr>\n",
       "      <th>2</th>\n",
       "      <td>top aide powerful texas congressman ronald col...</td>\n",
       "      <td>As a top aide to powerful Texas Congressman Ro...</td>\n",
       "      <td>Hill Rat: Blowing the Lid Off Congress</td>\n",
       "      <td>True</td>\n",
       "    </tr>\n",
       "    <tr>\n",
       "      <th>3</th>\n",
       "      <td>wonderful summer great memory kind love everyb...</td>\n",
       "      <td>It was a wonderful summer, a great memory, the...</td>\n",
       "      <td>Shadow Song</td>\n",
       "      <td>True</td>\n",
       "    </tr>\n",
       "    <tr>\n",
       "      <th>4</th>\n",
       "      <td>first time ever veteran world war cryptographe...</td>\n",
       "      <td>For the first time ever, veteran World War II ...</td>\n",
       "      <td>Codebreakers' Victory: How the Allied Cryptoga...</td>\n",
       "      <td>True</td>\n",
       "    </tr>\n",
       "  </tbody>\n",
       "</table>\n",
       "</div>"
      ],
      "text/plain": [
       "                                               Story  \\\n",
       "0  deadly germ sprayed shopping mall bomblet spew...   \n",
       "1  new york time notable book yearthis haunting h...   \n",
       "2  top aide powerful texas congressman ronald col...   \n",
       "3  wonderful summer great memory kind love everyb...   \n",
       "4  first time ever veteran world war cryptographe...   \n",
       "\n",
       "                                      origionalStory  \\\n",
       "0  Deadly germs sprayed in shopping malls, bomb-l...   \n",
       "1  A New York Times Notable Book of the YearThis ...   \n",
       "2  As a top aide to powerful Texas Congressman Ro...   \n",
       "3  It was a wonderful summer, a great memory, the...   \n",
       "4  For the first time ever, veteran World War II ...   \n",
       "\n",
       "                                               Title  isBook  \n",
       "0  Germs : Biological Weapons and America's Secre...    True  \n",
       "1                          All over but the Shoutin'    True  \n",
       "2             Hill Rat: Blowing the Lid Off Congress    True  \n",
       "3                                        Shadow Song    True  \n",
       "4  Codebreakers' Victory: How the Allied Cryptoga...    True  "
      ]
     },
     "execution_count": 41,
     "metadata": {},
     "output_type": "execute_result"
    }
   ],
   "source": [
    "data.head()"
   ]
  },
  {
   "cell_type": "code",
   "execution_count": 42,
   "id": "dacb3a6a",
   "metadata": {},
   "outputs": [],
   "source": [
    "def getRecommendatioFromTitle(title , cos_sim = cosine_sim ,includes = \"both\" , top = 10):\n",
    "\n",
    "    index = reverse_index.loc[title].values[0]\n",
    "\n",
    "    get_similar = list(enumerate(cos_sim[index]))\n",
    "\n",
    "    get_similar = sorted(get_similar ,key = lambda x : x[1], reverse=True)\n",
    "\n",
    "    get_similar = get_similar\n",
    "\n",
    "\n",
    "    indices =  [i for i,j in get_similar]\n",
    "\n",
    "    recommendations = data.iloc[indices]\n",
    "\n",
    "    if(includes == \"books\"):    \n",
    "\n",
    "        recommendations =  recommendations[recommendations[\"isBook\"]]\n",
    "\n",
    "    elif(includes == \"movies\"):\n",
    "\n",
    "        recommendations =  recommendations[~recommendations[\"isBook\"]]\n",
    "\n",
    "    recommendations.reset_index(inplace = True,drop=True)\n",
    "\n",
    "\n",
    "\n",
    "    return recommendations[[\"Title\",\"isBook\",\"origionalStory\"]].iloc[0:top].reset_index(drop=True)\n"
   ]
  },
  {
   "cell_type": "code",
   "execution_count": 43,
   "id": "ad11af45",
   "metadata": {},
   "outputs": [],
   "source": [
    "def getRecommendatioFromStory(text , includes = \"both\" , top = 10):\n",
    "    \n",
    "    text = clean_data(text)\n",
    "    text = [data_stemmer(text)]\n",
    "    encoded_text = TFIDS.transform(text)\n",
    "    \n",
    "    curr_cossim = linear_kernel(encoded_text,tfids)\n",
    "    \n",
    "    get_similar = list(enumerate(curr_cossim[0]))\n",
    "\n",
    "    get_similar = sorted(get_similar ,key = lambda x : x[1], reverse=True)\n",
    "\n",
    "    get_similar = get_similar\n",
    "\n",
    "\n",
    "    indices =  [i for i,j in get_similar]\n",
    "\n",
    "    recommendations = data.iloc[indices]\n",
    "\n",
    "    if(includes == \"books\"):    \n",
    "\n",
    "        recommendations =  recommendations[recommendations[\"isBook\"]]\n",
    "\n",
    "    elif(includes == \"movies\"):\n",
    "\n",
    "        recommendations =  recommendations[~recommendations[\"isBook\"]]\n",
    "\n",
    "    recommendations.reset_index(inplace = True,drop=True)\n",
    "\n",
    "\n",
    "\n",
    "    return recommendations[[\"Title\",\"isBook\",\"origionalStory\"]].iloc[0:top].reset_index(drop=True)\n"
   ]
  },
  {
   "cell_type": "code",
   "execution_count": 44,
   "id": "149a4813",
   "metadata": {},
   "outputs": [],
   "source": [
    "# allData[\"cosine_sim\"] = cosine_sim\n",
    "# allData[\"Data\"] = data\n",
    "# allData[\"reverse_index\"] = reverse_index\n",
    "# allData[\"TFIDS\"] = TFIDS\n",
    "# allData[\"EncodedStories\"] = tfids \n",
    "# pkl.dump(allData , open(\"DataDump.pkl\",\"wb\"))"
   ]
  },
  {
   "cell_type": "code",
   "execution_count": 45,
   "id": "78c563fa",
   "metadata": {},
   "outputs": [
    {
     "data": {
      "text/html": [
       "<div>\n",
       "<style scoped>\n",
       "    .dataframe tbody tr th:only-of-type {\n",
       "        vertical-align: middle;\n",
       "    }\n",
       "\n",
       "    .dataframe tbody tr th {\n",
       "        vertical-align: top;\n",
       "    }\n",
       "\n",
       "    .dataframe thead th {\n",
       "        text-align: right;\n",
       "    }\n",
       "</style>\n",
       "<table border=\"1\" class=\"dataframe\">\n",
       "  <thead>\n",
       "    <tr style=\"text-align: right;\">\n",
       "      <th></th>\n",
       "      <th>Title</th>\n",
       "      <th>isBook</th>\n",
       "      <th>origionalStory</th>\n",
       "    </tr>\n",
       "  </thead>\n",
       "  <tbody>\n",
       "    <tr>\n",
       "      <th>0</th>\n",
       "      <td>The Godfather: Part III</td>\n",
       "      <td>False</td>\n",
       "      <td>In the midst of trying to legitimize his busin...</td>\n",
       "    </tr>\n",
       "    <tr>\n",
       "      <th>1</th>\n",
       "      <td>The Godfather: Part II</td>\n",
       "      <td>False</td>\n",
       "      <td>In the continuing saga of the Corleone crime f...</td>\n",
       "    </tr>\n",
       "    <tr>\n",
       "      <th>2</th>\n",
       "      <td>The Godfather Returns</td>\n",
       "      <td>True</td>\n",
       "      <td>THE MISSING YEARS FROM THE GREATEST CRIME SAGA...</td>\n",
       "    </tr>\n",
       "    <tr>\n",
       "      <th>3</th>\n",
       "      <td>The Godfather Returns: A Novel</td>\n",
       "      <td>True</td>\n",
       "      <td>THE MISSING YEARS FROM THE GREATEST CRIME SAGA...</td>\n",
       "    </tr>\n",
       "    <tr>\n",
       "      <th>4</th>\n",
       "      <td>The Godfather</td>\n",
       "      <td>False</td>\n",
       "      <td>Spanning the years 1945 to 1955, a chronicle o...</td>\n",
       "    </tr>\n",
       "    <tr>\n",
       "      <th>5</th>\n",
       "      <td>Police Academy: Mission to Moscow</td>\n",
       "      <td>False</td>\n",
       "      <td>The Russians need help in dealing with the Maf...</td>\n",
       "    </tr>\n",
       "    <tr>\n",
       "      <th>6</th>\n",
       "      <td>We Own the Night</td>\n",
       "      <td>False</td>\n",
       "      <td>A New York nightclub manager tries to save his...</td>\n",
       "    </tr>\n",
       "    <tr>\n",
       "      <th>7</th>\n",
       "      <td>Aging: A Natural History (Scientific American ...</td>\n",
       "      <td>True</td>\n",
       "      <td>The process of aging is familiar to, and usual...</td>\n",
       "    </tr>\n",
       "    <tr>\n",
       "      <th>8</th>\n",
       "      <td>Dawn Patrol</td>\n",
       "      <td>False</td>\n",
       "      <td>After the brutal murder of his beloved brother...</td>\n",
       "    </tr>\n",
       "    <tr>\n",
       "      <th>9</th>\n",
       "      <td>You, Staying Young: The Owner's Manual for Ext...</td>\n",
       "      <td>True</td>\n",
       "      <td>Drs. Oz and Roizen—the bestselling coauthors o...</td>\n",
       "    </tr>\n",
       "  </tbody>\n",
       "</table>\n",
       "</div>"
      ],
      "text/plain": [
       "                                               Title  isBook  \\\n",
       "0                            The Godfather: Part III   False   \n",
       "1                             The Godfather: Part II   False   \n",
       "2                              The Godfather Returns    True   \n",
       "3                     The Godfather Returns: A Novel    True   \n",
       "4                                      The Godfather   False   \n",
       "5                  Police Academy: Mission to Moscow   False   \n",
       "6                                   We Own the Night   False   \n",
       "7  Aging: A Natural History (Scientific American ...    True   \n",
       "8                                        Dawn Patrol   False   \n",
       "9  You, Staying Young: The Owner's Manual for Ext...    True   \n",
       "\n",
       "                                      origionalStory  \n",
       "0  In the midst of trying to legitimize his busin...  \n",
       "1  In the continuing saga of the Corleone crime f...  \n",
       "2  THE MISSING YEARS FROM THE GREATEST CRIME SAGA...  \n",
       "3  THE MISSING YEARS FROM THE GREATEST CRIME SAGA...  \n",
       "4  Spanning the years 1945 to 1955, a chronicle o...  \n",
       "5  The Russians need help in dealing with the Maf...  \n",
       "6  A New York nightclub manager tries to save his...  \n",
       "7  The process of aging is familiar to, and usual...  \n",
       "8  After the brutal murder of his beloved brother...  \n",
       "9  Drs. Oz and Roizen—the bestselling coauthors o...  "
      ]
     },
     "execution_count": 45,
     "metadata": {},
     "output_type": "execute_result"
    }
   ],
   "source": [
    "getRecommendatioFromTitle(\"The Godfather: Part III\")\n"
   ]
  },
  {
   "cell_type": "code",
   "execution_count": 46,
   "id": "b4284780",
   "metadata": {},
   "outputs": [
    {
     "data": {
      "text/html": [
       "<div>\n",
       "<style scoped>\n",
       "    .dataframe tbody tr th:only-of-type {\n",
       "        vertical-align: middle;\n",
       "    }\n",
       "\n",
       "    .dataframe tbody tr th {\n",
       "        vertical-align: top;\n",
       "    }\n",
       "\n",
       "    .dataframe thead th {\n",
       "        text-align: right;\n",
       "    }\n",
       "</style>\n",
       "<table border=\"1\" class=\"dataframe\">\n",
       "  <thead>\n",
       "    <tr style=\"text-align: right;\">\n",
       "      <th></th>\n",
       "      <th>Title</th>\n",
       "      <th>isBook</th>\n",
       "      <th>origionalStory</th>\n",
       "    </tr>\n",
       "  </thead>\n",
       "  <tbody>\n",
       "    <tr>\n",
       "      <th>0</th>\n",
       "      <td>Dawn Patrol</td>\n",
       "      <td>False</td>\n",
       "      <td>After the brutal murder of his beloved brother...</td>\n",
       "    </tr>\n",
       "    <tr>\n",
       "      <th>1</th>\n",
       "      <td>Chairman of the Board</td>\n",
       "      <td>False</td>\n",
       "      <td>A surfer becomes the head of a major company.</td>\n",
       "    </tr>\n",
       "    <tr>\n",
       "      <th>2</th>\n",
       "      <td>Dead Man's Shoes</td>\n",
       "      <td>False</td>\n",
       "      <td>A soldier returns home to his small town and e...</td>\n",
       "    </tr>\n",
       "    <tr>\n",
       "      <th>3</th>\n",
       "      <td>Porky's</td>\n",
       "      <td>False</td>\n",
       "      <td>Set in 1954, a group of Florida high schoolers...</td>\n",
       "    </tr>\n",
       "    <tr>\n",
       "      <th>4</th>\n",
       "      <td>The Sting</td>\n",
       "      <td>False</td>\n",
       "      <td>Set in the 1930's this intricate caper deals w...</td>\n",
       "    </tr>\n",
       "    <tr>\n",
       "      <th>5</th>\n",
       "      <td>친절한 금자씨</td>\n",
       "      <td>False</td>\n",
       "      <td>After a 13-year imprisonment for the kidnap an...</td>\n",
       "    </tr>\n",
       "    <tr>\n",
       "      <th>6</th>\n",
       "      <td>Meet the Deedles</td>\n",
       "      <td>False</td>\n",
       "      <td>Two surfers end up as Yellowstone park rangers...</td>\n",
       "    </tr>\n",
       "    <tr>\n",
       "      <th>7</th>\n",
       "      <td>Furious 7</td>\n",
       "      <td>False</td>\n",
       "      <td>Deckard Shaw seeks revenge against Dominic Tor...</td>\n",
       "    </tr>\n",
       "    <tr>\n",
       "      <th>8</th>\n",
       "      <td>West Side Story</td>\n",
       "      <td>False</td>\n",
       "      <td>In the slums of the upper West Side of Manhatt...</td>\n",
       "    </tr>\n",
       "    <tr>\n",
       "      <th>9</th>\n",
       "      <td>Torque</td>\n",
       "      <td>False</td>\n",
       "      <td>Biker Cary Ford is framed by an old rival and ...</td>\n",
       "    </tr>\n",
       "  </tbody>\n",
       "</table>\n",
       "</div>"
      ],
      "text/plain": [
       "                   Title  isBook  \\\n",
       "0            Dawn Patrol   False   \n",
       "1  Chairman of the Board   False   \n",
       "2       Dead Man's Shoes   False   \n",
       "3                Porky's   False   \n",
       "4              The Sting   False   \n",
       "5                친절한 금자씨   False   \n",
       "6       Meet the Deedles   False   \n",
       "7              Furious 7   False   \n",
       "8        West Side Story   False   \n",
       "9                 Torque   False   \n",
       "\n",
       "                                      origionalStory  \n",
       "0  After the brutal murder of his beloved brother...  \n",
       "1      A surfer becomes the head of a major company.  \n",
       "2  A soldier returns home to his small town and e...  \n",
       "3  Set in 1954, a group of Florida high schoolers...  \n",
       "4  Set in the 1930's this intricate caper deals w...  \n",
       "5  After a 13-year imprisonment for the kidnap an...  \n",
       "6  Two surfers end up as Yellowstone park rangers...  \n",
       "7  Deckard Shaw seeks revenge against Dominic Tor...  \n",
       "8  In the slums of the upper West Side of Manhatt...  \n",
       "9  Biker Cary Ford is framed by an old rival and ...  "
      ]
     },
     "execution_count": 46,
     "metadata": {},
     "output_type": "execute_result"
    }
   ],
   "source": [
    "getRecommendatioFromTitle(\"Dawn Patrol\")"
   ]
  },
  {
   "cell_type": "code",
   "execution_count": 47,
   "id": "9e52690a",
   "metadata": {},
   "outputs": [],
   "source": [
    "story = input(\"Enter the few lines of story you like : \")"
   ]
  },
  {
   "cell_type": "code",
   "execution_count": 48,
   "id": "e7310e86",
   "metadata": {},
   "outputs": [
    {
     "data": {
      "text/plain": [
       "'A man who nerver lived an peaseful life cant got place into the hevan'"
      ]
     },
     "execution_count": 48,
     "metadata": {},
     "output_type": "execute_result"
    }
   ],
   "source": [
    "story"
   ]
  },
  {
   "cell_type": "code",
   "execution_count": 49,
   "id": "2888e6f8",
   "metadata": {},
   "outputs": [
    {
     "data": {
      "text/html": [
       "<div>\n",
       "<style scoped>\n",
       "    .dataframe tbody tr th:only-of-type {\n",
       "        vertical-align: middle;\n",
       "    }\n",
       "\n",
       "    .dataframe tbody tr th {\n",
       "        vertical-align: top;\n",
       "    }\n",
       "\n",
       "    .dataframe thead th {\n",
       "        text-align: right;\n",
       "    }\n",
       "</style>\n",
       "<table border=\"1\" class=\"dataframe\">\n",
       "  <thead>\n",
       "    <tr style=\"text-align: right;\">\n",
       "      <th></th>\n",
       "      <th>Title</th>\n",
       "      <th>isBook</th>\n",
       "      <th>origionalStory</th>\n",
       "    </tr>\n",
       "  </thead>\n",
       "  <tbody>\n",
       "    <tr>\n",
       "      <th>0</th>\n",
       "      <td>Drop Dead, My Lovely</td>\n",
       "      <td>True</td>\n",
       "      <td>Meet Pete Ingalls, a tough-talking, hard-boile...</td>\n",
       "    </tr>\n",
       "    <tr>\n",
       "      <th>1</th>\n",
       "      <td>Room</td>\n",
       "      <td>False</td>\n",
       "      <td>Jack is a young boy of 5 years old who has liv...</td>\n",
       "    </tr>\n",
       "    <tr>\n",
       "      <th>2</th>\n",
       "      <td>A Quiet Place</td>\n",
       "      <td>True</td>\n",
       "      <td>\"Sometimes a person needs a quiet place.\"  A p...</td>\n",
       "    </tr>\n",
       "    <tr>\n",
       "      <th>3</th>\n",
       "      <td>The Way of the Wild Heart: A Map for the Mascu...</td>\n",
       "      <td>True</td>\n",
       "      <td>This is a book about how a boy?and a man?becom...</td>\n",
       "    </tr>\n",
       "    <tr>\n",
       "      <th>4</th>\n",
       "      <td>Snow Dogs</td>\n",
       "      <td>False</td>\n",
       "      <td>When a Miami dentist inherits a team of sled d...</td>\n",
       "    </tr>\n",
       "    <tr>\n",
       "      <th>5</th>\n",
       "      <td>Human Traffic</td>\n",
       "      <td>False</td>\n",
       "      <td>All that exists now is clubs, drugs, pubs and ...</td>\n",
       "    </tr>\n",
       "    <tr>\n",
       "      <th>6</th>\n",
       "      <td>Explorers Who Got Lost</td>\n",
       "      <td>True</td>\n",
       "      <td>During the fifteenth and sixteenth centuries j...</td>\n",
       "    </tr>\n",
       "    <tr>\n",
       "      <th>7</th>\n",
       "      <td>The Present: The Gift That Makes You Happier a...</td>\n",
       "      <td>True</td>\n",
       "      <td>Another Spencer Johnson #1 Bestseller#1 New Yo...</td>\n",
       "    </tr>\n",
       "    <tr>\n",
       "      <th>8</th>\n",
       "      <td>The Lost Lore of a Man's Life: Lots of Cool St...</td>\n",
       "      <td>True</td>\n",
       "      <td>To restore men's rightful heritage, Denis Boyl...</td>\n",
       "    </tr>\n",
       "    <tr>\n",
       "      <th>9</th>\n",
       "      <td>Elsewhere: A Novel</td>\n",
       "      <td>True</td>\n",
       "      <td>Is it possible to grow up while getting younge...</td>\n",
       "    </tr>\n",
       "  </tbody>\n",
       "</table>\n",
       "</div>"
      ],
      "text/plain": [
       "                                               Title  isBook  \\\n",
       "0                               Drop Dead, My Lovely    True   \n",
       "1                                               Room   False   \n",
       "2                                      A Quiet Place    True   \n",
       "3  The Way of the Wild Heart: A Map for the Mascu...    True   \n",
       "4                                          Snow Dogs   False   \n",
       "5                                      Human Traffic   False   \n",
       "6                             Explorers Who Got Lost    True   \n",
       "7  The Present: The Gift That Makes You Happier a...    True   \n",
       "8  The Lost Lore of a Man's Life: Lots of Cool St...    True   \n",
       "9                                 Elsewhere: A Novel    True   \n",
       "\n",
       "                                      origionalStory  \n",
       "0  Meet Pete Ingalls, a tough-talking, hard-boile...  \n",
       "1  Jack is a young boy of 5 years old who has liv...  \n",
       "2  \"Sometimes a person needs a quiet place.\"  A p...  \n",
       "3  This is a book about how a boy?and a man?becom...  \n",
       "4  When a Miami dentist inherits a team of sled d...  \n",
       "5  All that exists now is clubs, drugs, pubs and ...  \n",
       "6  During the fifteenth and sixteenth centuries j...  \n",
       "7  Another Spencer Johnson #1 Bestseller#1 New Yo...  \n",
       "8  To restore men's rightful heritage, Denis Boyl...  \n",
       "9  Is it possible to grow up while getting younge...  "
      ]
     },
     "execution_count": 49,
     "metadata": {},
     "output_type": "execute_result"
    }
   ],
   "source": [
    "getRecommendatioFromStory(story,includes=\"both\")"
   ]
  },
  {
   "cell_type": "code",
   "execution_count": null,
   "id": "9bf6e54e",
   "metadata": {},
   "outputs": [],
   "source": []
  }
 ],
 "metadata": {
  "kernelspec": {
   "display_name": "game",
   "language": "python",
   "name": "python3"
  },
  "language_info": {
   "codemirror_mode": {
    "name": "ipython",
    "version": 3
   },
   "file_extension": ".py",
   "mimetype": "text/x-python",
   "name": "python",
   "nbconvert_exporter": "python",
   "pygments_lexer": "ipython3",
   "version": "3.10.0"
  }
 },
 "nbformat": 4,
 "nbformat_minor": 5
}
